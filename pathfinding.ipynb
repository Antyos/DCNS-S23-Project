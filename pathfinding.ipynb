{
 "cells": [
  {
   "cell_type": "code",
   "execution_count": 15,
   "metadata": {},
   "outputs": [],
   "source": [
    "import networkx as nx\n",
    "import numpy as np\n",
    "import d3networkx as d3nx"
   ]
  },
  {
   "cell_type": "code",
   "execution_count": 23,
   "metadata": {},
   "outputs": [],
   "source": [
    "G = d3nx.d3graph.D3Graph(nx.read_weighted_edgelist(\"data/path.edgelist\"))"
   ]
  },
  {
   "cell_type": "code",
   "execution_count": 56,
   "metadata": {},
   "outputs": [],
   "source": [
    "_node_pos = {\n",
    "    \"A\": (0, 1),\n",
    "    \"S\": (1, 0),\n",
    "    \"B\": (1, 3),\n",
    "    \"D\": (0, 4),\n",
    "    \"H\": (1, 5),\n",
    "    \"F\": (0, 6),\n",
    "    \"G\": (2, 6),\n",
    "    \"C\": (3, 0),\n",
    "    \"I\": (3, 4),\n",
    "    \"E\": (3, 6),\n",
    "    \"L\": (4, 2),\n",
    "    \"K\": (4, 4),\n",
    "    \"J\": (5, 3),\n",
    "}\n",
    "# Convert to numpy array\n",
    "node_pos = {node: np.array(pos) for node, pos in _node_pos.items()}"
   ]
  },
  {
   "cell_type": "code",
   "execution_count": 27,
   "metadata": {},
   "outputs": [
    {
     "name": "stdout",
     "output_type": "stream",
     "text": [
      "websocket server started..."
     ]
    },
    {
     "name": "stdout",
     "output_type": "stream",
     "text": [
      "networkx connected...visualizer connected..."
     ]
    }
   ],
   "source": [
    "d3 = await d3nx.create_d3nx_visualizer()\n",
    "d3.clear()\n",
    "d3.set_graph(G)\n",
    "d3.update()"
   ]
  },
  {
   "cell_type": "code",
   "execution_count": 61,
   "metadata": {},
   "outputs": [],
   "source": [
    "import networkx as nx\n",
    "import heapq\n",
    "from asyncio import sleep\n",
    "from typing import Optional, Union, Hashable\n",
    "from collections import deque\n",
    "import more_itertools\n",
    "\n",
    "Node = Hashable\n",
    "\n",
    "\n",
    "def astar_search(\n",
    "    graph: Union[nx.Graph, nx.DiGraph],\n",
    "    start: Node,\n",
    "    end: Node,\n",
    "    heuristic: Optional[dict[Node, float]]=None,\n",
    "):\n",
    "    \"\"\"Find the shortest path between two nodes in a weighted graph using the a* algorithm.\"\"\"\n",
    "    # Determine if the graph is directed or undirected\n",
    "    is_directed = isinstance(graph, nx.DiGraph)\n",
    "\n",
    "    # Set the heuristic to zero if not provided\n",
    "    if not heuristic:\n",
    "        heuristic = {node: 0.0 for node in graph.nodes()}\n",
    "\n",
    "    # Initialize the distances of all nodes to infinity\n",
    "    distance: dict[Node, float] = {node: float(\"inf\") for node in graph.nodes()}\n",
    "    distance[start] = 0\n",
    "\n",
    "    # Initialize the heap queue with the start node\n",
    "    heap = [(0 + heuristic[start], start)]\n",
    "\n",
    "    # Initialize the predecessor dictionary\n",
    "    predecessors = {}\n",
    "\n",
    "    while heap:\n",
    "        # Pop the node with the minimum distance from the heap queue\n",
    "        _, curr_node = heapq.heappop(heap)\n",
    "\n",
    "        # If we've reached the end node, terminate early\n",
    "        if curr_node == end:\n",
    "            break\n",
    "\n",
    "        # Iterate over the neighbors of the current node\n",
    "        neighbors = (\n",
    "            graph.successors(curr_node) if is_directed else graph.neighbors(curr_node)\n",
    "        )\n",
    "        for neighbor in neighbors:\n",
    "            # Calculate the distance from the current node to the neighbor\n",
    "            edge_weight = graph[curr_node][neighbor][\"weight\"]\n",
    "            new_dist = distance[curr_node] + edge_weight\n",
    "\n",
    "            # Update the distance and predecessor of the neighbor if a shorter path was found\n",
    "            if new_dist < distance[neighbor]:\n",
    "                distance[neighbor] = new_dist\n",
    "                predecessors[neighbor] = curr_node\n",
    "\n",
    "                # Add the neighbor to the heap queue\n",
    "                heapq.heappush(heap, (new_dist + heuristic[curr_node], neighbor))\n",
    "\n",
    "        yield predecessors, distance\n",
    "\n",
    "    raise ValueError(f\"No path found from {start} to {end}\")\n",
    "\n",
    "def predecessor_path(predecessors: dict, start: Node, end: Node):\n",
    "    # Construct the shortest path from the predecessor dictionary\n",
    "    path = [end]\n",
    "    while path[-1] != start:\n",
    "        path.append(predecessors[path[-1]])\n",
    "        yield path\n",
    "\n",
    "    return path\n",
    "\n",
    "def astar(\n",
    "    graph: Union[nx.Graph, nx.DiGraph],\n",
    "    start: Node,\n",
    "    end: Node,\n",
    "    heuristic: Optional[dict[Hashable, float]] = None\n",
    "):\n",
    "    \"\"\"Run the a* pathfinding algorithm on a graph.\n",
    "\n",
    "    Returns\n",
    "    -------\n",
    "    final_path: list of Nodes\n",
    "    distance: length of path (sum of edgeweights)\n",
    "    num_nodes_searched: number of nodes searched before finding the path\n",
    "    \"\"\"\n",
    "    # Use deque to get the last item in the generator\n",
    "    predecessors, distance = deque(astar_search(graph, start, end, heuristic), maxlen=1).pop()\n",
    "    path = deque(predecessor_path(predecessors, start, end), maxlen=1).pop()\n",
    "    path.reverse()\n",
    "\n",
    "    return path, distance[end], len(predecessors)\n",
    "\n",
    "async def astar_d3(\n",
    "    d3: d3nx.D3NetworkxRenderer,\n",
    "    graph: Union[nx.Graph, nx.DiGraph],\n",
    "    start: Node,\n",
    "    end: Node,\n",
    "    heuristic: Optional[dict[Hashable, float]] = None,\n",
    "    sleep_time=0.5,\n",
    "):\n",
    "    \"\"\"Visualize the a* pathfinding algorithm on a graph with d3nx\n",
    "    \n",
    "    Returns\n",
    "    -------\n",
    "    final_path: list of Nodes\n",
    "    distance: length of path (sum of edgeweights)\n",
    "    num_nodes_searched: number of nodes searched before finding the path\n",
    "    \"\"\"\n",
    "    d3.clear_highlights()\n",
    "    d3.highlight_nodes((start,))\n",
    "    d3.update()\n",
    "\n",
    "    predecessors = {}\n",
    "    distance = {}\n",
    "    for predecessors, distance in astar_search(graph, start, end, heuristic):\n",
    "        d3.highlight_nodes(predecessors.keys())\n",
    "        d3.update()\n",
    "        await sleep(sleep_time)\n",
    "\n",
    "    d3.clear_highlights()\n",
    "    d3.highlight_nodes((start,))\n",
    "    d3.update()\n",
    "    await sleep(sleep_time)\n",
    "\n",
    "    path = []\n",
    "    for path in predecessor_path(predecessors, start, end):\n",
    "        d3.highlight_nodes(path)\n",
    "        d3.highlight_edges(more_itertools.pairwise(path))\n",
    "        d3.update()\n",
    "        await sleep(sleep_time)\n",
    "\n",
    "    path.reverse()\n",
    "\n",
    "    return path, distance[end], len(predecessors)\n",
    "\n",
    "async def dijkstra_d3(\n",
    "    d3: d3nx.D3NetworkxRenderer,\n",
    "    graph: Union[nx.Graph, nx.DiGraph],\n",
    "    start: Node,\n",
    "    end: Node,\n",
    "    sleep_time=0.5,\n",
    "):\n",
    "    return astar_d3(d3, graph, start, end, heuristic=None, sleep_time=sleep_time)\n"
   ]
  },
  {
   "cell_type": "code",
   "execution_count": 62,
   "metadata": {},
   "outputs": [
    {
     "data": {
      "text/plain": [
       "(['S', 'B', 'H', 'G', 'E'], 7.0)"
      ]
     },
     "execution_count": 62,
     "metadata": {},
     "output_type": "execute_result"
    }
   ],
   "source": [
    "# await dijkstra_d3(d3, G, \"S\", \"E\")\n",
    "node_dist = {node: float(np.linalg.norm(pos-node_pos[\"E\"])) for node, pos in node_pos.items()} # type: dict[Node, float]\n",
    "await astar_d3(d3, G, \"S\", \"E\", node_dist)"
   ]
  },
  {
   "cell_type": "code",
   "execution_count": 44,
   "metadata": {},
   "outputs": [],
   "source": [
    "d3.clear_highlights()\n",
    "d3.update()"
   ]
  }
 ],
 "metadata": {
  "kernelspec": {
   "display_name": ".venv",
   "language": "python",
   "name": "python3"
  },
  "language_info": {
   "codemirror_mode": {
    "name": "ipython",
    "version": 3
   },
   "file_extension": ".py",
   "mimetype": "text/x-python",
   "name": "python",
   "nbconvert_exporter": "python",
   "pygments_lexer": "ipython3",
   "version": "3.9.12"
  },
  "orig_nbformat": 4
 },
 "nbformat": 4,
 "nbformat_minor": 2
}
