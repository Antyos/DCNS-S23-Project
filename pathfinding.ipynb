{
 "cells": [
  {
   "cell_type": "code",
   "execution_count": 15,
   "metadata": {},
   "outputs": [],
   "source": [
    "import networkx as nx\n",
    "import numpy as np\n",
    "import d3networkx as d3nx"
   ]
  },
  {
   "cell_type": "code",
   "execution_count": 23,
   "metadata": {},
   "outputs": [],
   "source": [
    "G = d3nx.d3graph.D3Graph(nx.read_weighted_edgelist(\"data/path.edgelist\"))"
   ]
  },
  {
   "cell_type": "code",
   "execution_count": 27,
   "metadata": {},
   "outputs": [
    {
     "name": "stdout",
     "output_type": "stream",
     "text": [
      "websocket server started..."
     ]
    },
    {
     "name": "stdout",
     "output_type": "stream",
     "text": [
      "networkx connected...visualizer connected..."
     ]
    }
   ],
   "source": [
    "d3 = await d3nx.create_d3nx_visualizer()\n",
    "d3.clear()\n",
    "d3.set_graph(G)\n",
    "d3.update()"
   ]
  },
  {
   "cell_type": "code",
   "execution_count": 42,
   "metadata": {},
   "outputs": [],
   "source": [
    "import networkx as nx\n",
    "import heapq\n",
    "from asyncio import sleep\n",
    "from typing import Union\n",
    "import more_itertools\n",
    "\n",
    "\n",
    "async def dijkstra(\n",
    "    graph: Union[nx.Graph, nx.DiGraph], source, target\n",
    ") -> tuple[list[int], float]:\n",
    "    \"\"\"\n",
    "    Find the shortest path between two nodes in a weighted graph using Dijkstra's algorithm.\n",
    "\n",
    "    Args:\n",
    "        graph: The input graph represented as a NetworkX Graph object.\n",
    "        source: The index of the source node.\n",
    "        target: The index of the target node.\n",
    "\n",
    "    Returns:\n",
    "        A tuple containing the shortest path as a list of node IDs and its total length.\n",
    "    \"\"\"\n",
    "    # Determine if the graph is directed or undirected\n",
    "    directed = isinstance(graph, nx.DiGraph)\n",
    "\n",
    "    # Initialize the distances of all nodes to infinity\n",
    "    dist = {node: float(\"inf\") for node in graph.nodes()}\n",
    "    dist[source] = 0\n",
    "\n",
    "    d3.clear_highlights()\n",
    "    d3.highlight_nodes((source,))\n",
    "    d3.update()\n",
    "\n",
    "    # Initialize the heap queue with the source node\n",
    "    heap = [(0, source)]\n",
    "\n",
    "    # Initialize the predecessor dictionary\n",
    "    pred = {}\n",
    "\n",
    "    while heap:\n",
    "        # Pop the node with the minimum distance from the heap queue\n",
    "        curr_dist, curr_node = heapq.heappop(heap)\n",
    "\n",
    "        # If we've reached the target node, terminate early\n",
    "        if curr_node == target:\n",
    "            break\n",
    "\n",
    "        # Iterate over the neighbors of the current node\n",
    "        neighbors = (\n",
    "            graph.successors(curr_node) if directed else graph.neighbors(curr_node)\n",
    "        )\n",
    "        for neighbor in neighbors:\n",
    "            # Calculate the distance from the current node to the neighbor\n",
    "            edge_weight = graph[curr_node][neighbor][\"weight\"]\n",
    "            neighbor_dist = curr_dist + edge_weight\n",
    "\n",
    "            # Update the distance and predecessor of the neighbor if a shorter path was found\n",
    "            if neighbor_dist < dist[neighbor]:\n",
    "                dist[neighbor] = neighbor_dist\n",
    "                pred[neighbor] = curr_node\n",
    "\n",
    "                # Add the neighbor to the heap queue\n",
    "                heapq.heappush(heap, (neighbor_dist, neighbor))\n",
    "        \n",
    "            d3.highlight_nodes((neighbor,))\n",
    "        d3.update()\n",
    "        await sleep(0.5)\n",
    "\n",
    "    # Construct the shortest path from the predecessor dictionary\n",
    "    path = [target]\n",
    "    while path[-1] != source:\n",
    "        path.append(pred[path[-1]])\n",
    "    path.reverse()\n",
    "\n",
    "    d3.clear_highlights()\n",
    "    d3.highlight_nodes(path)\n",
    "    d3.highlight_edges(more_itertools.pairwise(path))\n",
    "    d3.update()\n",
    "\n",
    "    # Return the shortest path and its total length\n",
    "    return path, dist[target]"
   ]
  },
  {
   "cell_type": "code",
   "execution_count": 43,
   "metadata": {},
   "outputs": [
    {
     "data": {
      "text/plain": [
       "(['S', 'B', 'H', 'G', 'E'], 7.0)"
      ]
     },
     "execution_count": 43,
     "metadata": {},
     "output_type": "execute_result"
    }
   ],
   "source": [
    "await dijkstra(G, \"S\", \"E\")"
   ]
  },
  {
   "cell_type": "code",
   "execution_count": 44,
   "metadata": {},
   "outputs": [],
   "source": [
    "d3.clear_highlights()\n",
    "d3.update()"
   ]
  },
  {
   "cell_type": "code",
   "execution_count": null,
   "metadata": {},
   "outputs": [],
   "source": []
  }
 ],
 "metadata": {
  "kernelspec": {
   "display_name": ".venv",
   "language": "python",
   "name": "python3"
  },
  "language_info": {
   "codemirror_mode": {
    "name": "ipython",
    "version": 3
   },
   "file_extension": ".py",
   "mimetype": "text/x-python",
   "name": "python",
   "nbconvert_exporter": "python",
   "pygments_lexer": "ipython3",
   "version": "3.9.12"
  },
  "orig_nbformat": 4
 },
 "nbformat": 4,
 "nbformat_minor": 2
}
