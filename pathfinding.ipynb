{
 "cells": [
  {
   "cell_type": "code",
   "execution_count": 15,
   "metadata": {},
   "outputs": [],
   "source": [
    "import networkx as nx\n",
    "import numpy as np\n",
    "import d3networkx as d3nx"
   ]
  },
  {
   "cell_type": "code",
   "execution_count": 23,
   "metadata": {},
   "outputs": [],
   "source": [
    "G = d3nx.d3graph.D3Graph(nx.read_weighted_edgelist(\"data/path.edgelist\"))"
   ]
  },
  {
   "cell_type": "code",
   "execution_count": 54,
   "metadata": {},
   "outputs": [],
   "source": [
    "node_pos = {\n",
    "    \"A\": (0, 1),\n",
    "    \"S\": (1, 0),\n",
    "    \"B\": (1, 3),\n",
    "    \"D\": (0, 4),\n",
    "    \"H\": (1, 5),\n",
    "    \"F\": (0, 6),\n",
    "    \"G\": (2, 6),\n",
    "    \"C\": (3, 0),\n",
    "    \"I\": (3, 4),\n",
    "    \"E\": (3, 6),\n",
    "    \"L\": (4, 2),\n",
    "    \"K\": (4, 4),\n",
    "    \"J\": (5, 3),\n",
    "}"
   ]
  },
  {
   "cell_type": "code",
   "execution_count": 27,
   "metadata": {},
   "outputs": [
    {
     "name": "stdout",
     "output_type": "stream",
     "text": [
      "websocket server started..."
     ]
    },
    {
     "name": "stdout",
     "output_type": "stream",
     "text": [
      "networkx connected...visualizer connected..."
     ]
    }
   ],
   "source": [
    "d3 = await d3nx.create_d3nx_visualizer()\n",
    "d3.clear()\n",
    "d3.set_graph(G)\n",
    "d3.update()"
   ]
  },
  {
   "cell_type": "code",
   "execution_count": 51,
   "metadata": {},
   "outputs": [],
   "source": [
    "import networkx as nx\n",
    "import heapq\n",
    "from asyncio import sleep\n",
    "from typing import Union, Hashable\n",
    "import more_itertools\n",
    "\n",
    "Node = Hashable\n",
    "\n",
    "\n",
    "def dijkstra_search(graph: Union[nx.Graph, nx.DiGraph], source: Node, target: Node):\n",
    "    \"\"\"\n",
    "    Find the shortest path between two nodes in a weighted graph using Dijkstra's algorithm.\n",
    "\n",
    "    Args:\n",
    "        graph: The input graph represented as a NetworkX Graph object.\n",
    "        source: The index of the source node.\n",
    "        target: The index of the target node.\n",
    "\n",
    "    Returns:\n",
    "        A tuple containing the shortest path as a list of node IDs and its total length.\n",
    "    \"\"\"\n",
    "    # Determine if the graph is directed or undirected\n",
    "    is_directed = isinstance(graph, nx.DiGraph)\n",
    "\n",
    "    # Initialize the distances of all nodes to infinity\n",
    "    distance: dict[Node, float] = {node: float(\"inf\") for node in graph.nodes()}\n",
    "    distance[source] = 0\n",
    "\n",
    "    # Initialize the heap queue with the source node\n",
    "    heap = [(0, source)]\n",
    "\n",
    "    # Initialize the predecessor dictionary\n",
    "    predecessors = {}\n",
    "\n",
    "    while heap:\n",
    "        # Pop the node with the minimum distance from the heap queue\n",
    "        curr_dist, curr_node = heapq.heappop(heap)\n",
    "\n",
    "        # If we've reached the target node, terminate early\n",
    "        if curr_node == target:\n",
    "            break\n",
    "\n",
    "        # Iterate over the neighbors of the current node\n",
    "        neighbors = (\n",
    "            graph.successors(curr_node) if is_directed else graph.neighbors(curr_node)\n",
    "        )\n",
    "        for neighbor in neighbors:\n",
    "            # Calculate the distance from the current node to the neighbor\n",
    "            edge_weight = graph[curr_node][neighbor][\"weight\"]\n",
    "            neighbor_dist = curr_dist + edge_weight\n",
    "\n",
    "            # Update the distance and predecessor of the neighbor if a shorter path was found\n",
    "            if neighbor_dist < distance[neighbor]:\n",
    "                distance[neighbor] = neighbor_dist\n",
    "                predecessors[neighbor] = curr_node\n",
    "\n",
    "                # Add the neighbor to the heap queue\n",
    "                heapq.heappush(heap, (neighbor_dist, neighbor))\n",
    "\n",
    "        yield predecessors, distance\n",
    "\n",
    "\n",
    "def predecessor_path(predecessors: dict, source: Node, target: Node):\n",
    "    # Construct the shortest path from the predecessor dictionary\n",
    "    path = [target]\n",
    "    while path[-1] != source:\n",
    "        path.append(predecessors[path[-1]])\n",
    "        yield path\n",
    "\n",
    "    return path\n",
    "\n",
    "\n",
    "async def dijkstra_d3(\n",
    "    d3: d3nx.D3NetworkxRenderer,\n",
    "    graph: Union[nx.Graph, nx.DiGraph],\n",
    "    source: Node,\n",
    "    target: Node,\n",
    "    sleep_time=0.5,\n",
    "):\n",
    "    d3.clear_highlights()\n",
    "    d3.highlight_nodes((source,))\n",
    "    d3.update()\n",
    "\n",
    "    predecessors = {}\n",
    "    distances = {}\n",
    "    for predecessors_, distances_ in dijkstra_search(graph, source, target):\n",
    "        predecessors, distances = (predecessors_, distances_)\n",
    "        d3.highlight_nodes(predecessors_.keys())\n",
    "        d3.update()\n",
    "        await sleep(sleep_time)\n",
    "\n",
    "    d3.clear_highlights()\n",
    "    d3.update()\n",
    "    await sleep(sleep_time)\n",
    "\n",
    "    final_path = []\n",
    "    for path in predecessor_path(predecessors, source, target):\n",
    "        final_path = path\n",
    "        d3.highlight_nodes(path)\n",
    "        d3.highlight_edges(more_itertools.pairwise(path))\n",
    "        d3.update()\n",
    "        await sleep(sleep_time)\n",
    "\n",
    "    final_path.reverse()\n",
    "\n",
    "    return final_path, distances[target]"
   ]
  },
  {
   "cell_type": "code",
   "execution_count": 53,
   "metadata": {},
   "outputs": [
    {
     "data": {
      "text/plain": [
       "(['S', 'B', 'H', 'G', 'E'], 7.0)"
      ]
     },
     "execution_count": 53,
     "metadata": {},
     "output_type": "execute_result"
    }
   ],
   "source": [
    "await dijkstra_d3(d3, G, \"S\", \"E\")"
   ]
  },
  {
   "cell_type": "code",
   "execution_count": 44,
   "metadata": {},
   "outputs": [],
   "source": [
    "d3.clear_highlights()\n",
    "d3.update()"
   ]
  },
  {
   "cell_type": "code",
   "execution_count": 50,
   "metadata": {},
   "outputs": [
    {
     "name": "stdout",
     "output_type": "stream",
     "text": [
      "0\n",
      "2\n",
      "4\n",
      "6\n",
      "8\n",
      "done!\n"
     ]
    }
   ],
   "source": [
    "class KeepValue:\n",
    "    \"\"\"Based on: https://stackoverflow.com/a/34073559\"\"\"\n",
    "    def __init__(self, gen):\n",
    "        self.gen = gen\n",
    "\n",
    "    def __iter__(self):\n",
    "        self.value = yield from self.gen\n",
    "\n",
    "\n",
    "def foo():\n",
    "    for i in range(5):\n",
    "        yield i * 2\n",
    "    return \"done!\"\n",
    "\n",
    "gen = foo()\n",
    "for x in gen:\n",
    "    print(x)\n",
    "print(gen.value)"
   ]
  },
  {
   "cell_type": "code",
   "execution_count": null,
   "metadata": {},
   "outputs": [],
   "source": []
  }
 ],
 "metadata": {
  "kernelspec": {
   "display_name": ".venv",
   "language": "python",
   "name": "python3"
  },
  "language_info": {
   "codemirror_mode": {
    "name": "ipython",
    "version": 3
   },
   "file_extension": ".py",
   "mimetype": "text/x-python",
   "name": "python",
   "nbconvert_exporter": "python",
   "pygments_lexer": "ipython3",
   "version": "3.9.12"
  },
  "orig_nbformat": 4
 },
 "nbformat": 4,
 "nbformat_minor": 2
}
