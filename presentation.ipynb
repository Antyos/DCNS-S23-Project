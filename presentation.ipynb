{
 "cells": [
  {
   "cell_type": "markdown",
   "metadata": {
    "slideshow": {
     "slide_type": "slide"
    }
   },
   "source": [
    "# DART Network Analysis\n",
    "\n",
    "Andrew Glick, David Simpson"
   ]
  },
  {
   "cell_type": "markdown",
   "metadata": {
    "slideshow": {
     "slide_type": "slide"
    }
   },
   "source": [
    "## Intro\n",
    "\n",
    "- We want to explore local public transportation"
   ]
  },
  {
   "cell_type": "markdown",
   "metadata": {
    "slideshow": {
     "slide_type": "slide"
    }
   },
   "source": [
    "## What is our graph? [DS]\n",
    "\n",
    "- **Nodes**: Bus stops\n",
    "- **Directed edges**: Bus travels from stop A to stop B\n",
    "- **Weights**: Average trip time (sec) OR number of trips"
   ]
  },
  {
   "attachments": {},
   "cell_type": "markdown",
   "metadata": {
    "slideshow": {
     "slide_type": "slide"
    }
   },
   "source": [
    "## General Transit Feed Specification (GTFS) [AG]\n",
    "\n",
    "- Public transit standard\n",
    "- `routes.txt`, `trips.txt`, `stops.txt`, `stop_times.txt`\n",
    "\n",
    "```mermaid\n",
    "graph LR\n",
    "\n",
    "subgraph route1\n",
    "    direction LR\n",
    "    subgraph trip1\n",
    "        direction TB\n",
    "        stop1 --> stop2 --> stop3\n",
    "    end\n",
    "    subgraph trip2\n",
    "        direction TB\n",
    "        stop4[stop2] --> stop5[stop3] --> stop6[stop4]\n",
    "    end\n",
    "    trip1 -.- trip2\n",
    "end\n",
    "\n",
    "subgraph route2\n",
    "    direction LR\n",
    "    subgraph trip3\n",
    "        direction TB\n",
    "        stop7 --> stop8 --> stop9\n",
    "    end\n",
    "    subgraph trip4\n",
    "        direction TB\n",
    "        stop10 --> stop11 --> stop12\n",
    "    end\n",
    "    trip3 -.- trip4\n",
    "end\n",
    "\n",
    "route1 -.- route2\n",
    "```\n",
    "<!-- Also add stoptimes to mermaid -->\n",
    "<!-- #todo: include \"meta\" graph -->\n",
    "- Stops have latitude/longitude (assuming flat earth)\n",
    "\n"
   ]
  },
  {
   "attachments": {},
   "cell_type": "markdown",
   "metadata": {
    "slideshow": {
     "slide_type": "slide"
    }
   },
   "source": [
    "## Components [DS]\n",
    "\n",
    "![components](images/components.svg)\n",
    "- We will be analyzing the largest one"
   ]
  },
  {
   "attachments": {},
   "cell_type": "markdown",
   "metadata": {
    "slideshow": {
     "slide_type": "slide"
    }
   },
   "source": [
    "## Adding close edges across the street [AG]\n",
    "\n",
    "- (Add visual to explain why)\n",
    "- We will compare these graphs\n",
    "- Diameter\n",
    "- new num edges\n",
    "\n"
   ]
  },
  {
   "attachments": {},
   "cell_type": "markdown",
   "metadata": {
    "slideshow": {
     "slide_type": "slide"
    }
   },
   "source": [
    "## Degree distribution (for both graphs) [AG]\n",
    "\n",
    "- Is powerlaw\n"
   ]
  },
  {
   "attachments": {},
   "cell_type": "markdown",
   "metadata": {
    "slideshow": {
     "slide_type": "slide"
    }
   },
   "source": [
    "## Centrality [DS]\n",
    "\n",
    "- Comparing different centrality\n",
    "\n"
   ]
  },
  {
   "attachments": {},
   "cell_type": "markdown",
   "metadata": {
    "slideshow": {
     "slide_type": "slide"
    }
   },
   "source": [
    "## Pathfinding [AG]\n",
    "\n",
    "(Uses time as edge weight)\n",
    "- Effect of adding edges between nearby nodes (6 samples)\n",
    "- Speed of different pathfinding algorithms (6 samples). Is it the same path each time?\n",
    "- 1000 samples for different heuristics for a*\n",
    "\n",
    "![astar_gif](images/astar_dist.gif)\n"
   ]
  },
  {
   "attachments": {},
   "cell_type": "markdown",
   "metadata": {
    "slideshow": {
     "slide_type": "slide"
    }
   },
   "source": [
    "## Percolation / Resillience + Pathfinding [DS]\n",
    "\n"
   ]
  }
 ],
 "metadata": {
  "celltoolbar": "Slideshow",
  "kernelspec": {
   "display_name": "Python 3 (ipykernel)",
   "language": "python",
   "name": "python3"
  },
  "language_info": {
   "codemirror_mode": {
    "name": "ipython",
    "version": 3
   },
   "file_extension": ".py",
   "mimetype": "text/x-python",
   "name": "python",
   "nbconvert_exporter": "python",
   "pygments_lexer": "ipython3",
   "version": "3.9.12"
  }
 },
 "nbformat": 4,
 "nbformat_minor": 2
}
